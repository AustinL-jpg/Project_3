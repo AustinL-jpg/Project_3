{
 "cells": [
  {
   "cell_type": "code",
   "execution_count": 1,
   "id": "c0351da9-0fdc-406c-8abc-88515827b83a",
   "metadata": {},
   "outputs": [],
   "source": [
    "import pymongo\n",
    "import pandas as pd "
   ]
  },
  {
   "cell_type": "code",
<<<<<<< HEAD
   "execution_count": 3,
=======
   "execution_count": 4,
>>>>>>> dce9635f1c9d5713906f8095f35a39fc623c141a
   "id": "27ee5558-0113-4167-92e8-800fd4deb150",
   "metadata": {},
   "outputs": [
    {
     "name": "stdout",
     "output_type": "stream",
     "text": [
      "data successfully unserted\n"
     ]
    }
   ],
   "source": [
    "# Load the updated CSV data\n",
<<<<<<< HEAD
    "file_path = 'out.csv'  \n",
=======
    "file_path = 'Vehicle_Inventory_Upkeep_Project/columns.csv'  \n",
>>>>>>> dce9635f1c9d5713906f8095f35a39fc623c141a
    "df = pd.read_csv(file_path, low_memory=False)\n",
    "\n",
    "#Connect to MongoDB\n",
    "client = pymongo.MongoClient(\"mongodb://localhost:27017/\") \n",
    "db = client[\"car_inventory_db\"]  \n",
    "collection = db[\"car_inventory\"]  \n",
    "\n",
    "#Convert DataFrame to dictionary format for MongoDB\n",
    "data_dict = df.to_dict(\"records\")\n",
    "\n",
    "# Insert data into MongoDB collection\n",
    "collection.insert_many(data_dict)\n",
    "\n",
    "print(\"data successfully unserted\")"
   ]
  },
  {
   "cell_type": "code",
   "execution_count": null,
   "id": "b3d47d38-8bbd-4c6b-a400-49e43da4dc52",
   "metadata": {},
   "outputs": [],
   "source": [
    "\n"
   ]
  }
 ],
 "metadata": {
  "kernelspec": {
   "display_name": "dev",
   "language": "python",
   "name": "dev"
  },
  "language_info": {
   "codemirror_mode": {
    "name": "ipython",
    "version": 3
   },
   "file_extension": ".py",
   "mimetype": "text/x-python",
   "name": "python",
   "nbconvert_exporter": "python",
   "pygments_lexer": "ipython3",
<<<<<<< HEAD
   "version": "3.12.3"
=======
   "version": "3.10.14"
>>>>>>> dce9635f1c9d5713906f8095f35a39fc623c141a
  }
 },
 "nbformat": 4,
 "nbformat_minor": 5
}
